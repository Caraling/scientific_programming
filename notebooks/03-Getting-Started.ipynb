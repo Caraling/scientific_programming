{
 "cells": [
  {
   "cell_type": "markdown",
   "metadata": {},
   "source": [
    "# Getting started with Python "
   ]
  },
  {
   "cell_type": "markdown",
   "metadata": {},
   "source": [
    "In this chapter we are getting used to the python command line, and we are going to write our first small program.\n",
    "\n",
    "**Prerequisites**: you have a working python (v3.6) and ipython, a described in the [previous chapter](02-Installation.ipynb). "
   ]
  },
  {
   "cell_type": "markdown",
   "metadata": {
    "toc": true
   },
   "source": [
    "<h1>Table of Contents<span class=\"tocSkip\"></span></h1>\n",
    "<div class=\"toc\"><ul class=\"toc-item\"><li><span><a href=\"#Getting-started-with-Python\" data-toc-modified-id=\"Getting-started-with-Python-3\"><span class=\"toc-item-num\">3&nbsp;&nbsp;</span>Getting started with Python</a></span><ul class=\"toc-item\"><li><span><a href=\"#The-standard-command-line-interpreter\" data-toc-modified-id=\"The-standard-command-line-interpreter-3.1\"><span class=\"toc-item-num\">3.1&nbsp;&nbsp;</span>The standard command-line interpreter</a></span></li><li><span><a href=\"#ipython:-interactive-python\" data-toc-modified-id=\"ipython:-interactive-python-3.2\"><span class=\"toc-item-num\">3.2&nbsp;&nbsp;</span>ipython: interactive python</a></span><ul class=\"toc-item\"><li><span><a href=\"#Automatic-code-completion\" data-toc-modified-id=\"Automatic-code-completion-3.2.1\"><span class=\"toc-item-num\">3.2.1&nbsp;&nbsp;</span>Automatic code completion</a></span></li><li><span><a href=\"#Getting-help\" data-toc-modified-id=\"Getting-help-3.2.2\"><span class=\"toc-item-num\">3.2.2&nbsp;&nbsp;</span>Getting help</a></span></li><li><span><a href=\"#Copy-paste\" data-toc-modified-id=\"Copy-paste-3.2.3\"><span class=\"toc-item-num\">3.2.3&nbsp;&nbsp;</span>Copy paste</a></span></li><li><span><a href=\"#Take-home-points\" data-toc-modified-id=\"Take-home-points-3.2.4\"><span class=\"toc-item-num\">3.2.4&nbsp;&nbsp;</span>Take home points</a></span></li></ul></li><li><span><a href=\"#Modules-and-scripts\" data-toc-modified-id=\"Modules-and-scripts-3.3\"><span class=\"toc-item-num\">3.3&nbsp;&nbsp;</span>Modules and scripts</a></span></li><li><span><a href=\"#What-is-the-python-&quot;interpreter&quot;?\" data-toc-modified-id=\"What-is-the-python-&quot;interpreter&quot;?-3.4\"><span class=\"toc-item-num\">3.4&nbsp;&nbsp;</span>What is the python \"interpreter\"?</a></span></li><li><span><a href=\"#What's-next?\" data-toc-modified-id=\"What's-next?-3.5\"><span class=\"toc-item-num\">3.5&nbsp;&nbsp;</span>What's next?</a></span></li></ul></li></ul></div>"
   ]
  },
  {
   "cell_type": "markdown",
   "metadata": {},
   "source": [
    "## The standard command-line interpreter"
   ]
  },
  {
   "cell_type": "markdown",
   "metadata": {},
   "source": [
    "Let's open a python interpreter and type in some commands:\n",
    "\n",
    "```\n",
    "$ python\n",
    "Python 3.6.4 | packaged by conda-forge | (default, Dec 23 2017, 16:31:06) \n",
    "[GCC 4.8.2 20140120 (Red Hat 4.8.2-15)] on linux\n",
    "Type \"help\", \"copyright\", \"credits\" or \"license\" for more information.\n",
    ">>> a = 2\n",
    ">>> b = 3\n",
    ">>> print(a+b)\n",
    "5\n",
    ">>> a*b\n",
    "6\n",
    ">>> a**3\n",
    "8\n",
    "```"
   ]
  },
  {
   "cell_type": "markdown",
   "metadata": {},
   "source": [
    "This should look quite familiar to you, whatever language you learned before. We defined variables, and did arithmetic with them. On line 3 we used the ``print()`` function to display the output of our computations, but as it turns out it is not necessary: the command line shell will print the output anyway. This functionality is called [REPL](https://en.wikipedia.org/wiki/Read%E2%80%93eval%E2%80%93print_loop), and it's a feature, of modern interpreted languages. We'll come back to this later.\n",
    "\n",
    "The default command-line interpreter comes with some functionality (for example, if you use the up and down arrows you can navigate in your previous commands) but this functionality is very sparse. Some important functionalities are missing: some are cosmetic (like colors), some are very useful (like **automatic code completion** with ``[TAB]`` or the possibility to paste several lines of code at once). For all these reasons, the default python command-line interpreter is only used for very small tasks like testing a command or two, or starting bigger modules. We are far from what scientists need when analysis their data: this is why ``ipython`` was created."
   ]
  },
  {
   "cell_type": "markdown",
   "metadata": {},
   "source": [
    "## ipython: interactive python "
   ]
  },
  {
   "cell_type": "markdown",
   "metadata": {},
   "source": [
    "[ipython](http://ipython.readthedocs.io/en/stable/index.html) is a standard command-line interpreter, but enhanced with many interactive features. Let's open it:\n",
    "\n",
    "```\n",
    "$ ipython\n",
    "Python 3.6.4 | packaged by conda-forge | (default, Dec 23 2017, 16:31:06) \n",
    "Type 'copyright', 'credits' or 'license' for more information\n",
    "IPython 6.2.1 -- An enhanced Interactive Python. Type '?' for help.\n",
    "\n",
    "In [1]: a = 2\n",
    "\n",
    "In [2]: b = 3\n",
    "\n",
    "In [3]: print(a + b)\n",
    "5\n",
    "\n",
    "In [4]: a*b\n",
    "Out[4]: 6\n",
    "```"
   ]
  },
  {
   "cell_type": "markdown",
   "metadata": {},
   "source": [
    "What are the differences? The ```>>>``` prompt has been replaced by ``In [1]:``. Now there *is* a slight difference between a line with or without ``print()`` (can you find it?). At first sight the differences are small, but it's in the everyday interactive coding that ``ipython`` becomes useful. \n",
    "\n",
    "**From now on, we will use the ipython command-line interpreter.**\n",
    "\n",
    "It follows a sample of its most useful functionalities."
   ]
  },
  {
   "cell_type": "markdown",
   "metadata": {},
   "source": [
    "### Automatic code completion  "
   ]
  },
  {
   "cell_type": "markdown",
   "metadata": {},
   "source": [
    "In ipython, type ``s`` and then ``[TAB]``. The tool will give you a list of suggestions to choose from (useful when you forgot how a function was called exactly!). Now type ``so`` and ``[TAB]``. Here the only solution will be selected automatically."
   ]
  },
  {
   "cell_type": "markdown",
   "metadata": {},
   "source": [
    "### Getting help"
   ]
  },
  {
   "cell_type": "markdown",
   "metadata": {},
   "source": [
    "Type ``sorted?``. A text help should be printed, telling you what this function is about."
   ]
  },
  {
   "cell_type": "markdown",
   "metadata": {},
   "source": [
    "### Copy paste "
   ]
  },
  {
   "cell_type": "markdown",
   "metadata": {},
   "source": [
    "Copy the following lines and paste them in your ipython interpreter:\n",
    "\n",
    "```\n",
    "s = 'the jungle book'\n",
    "print(s)\n",
    "l = sorted(s)\n",
    "print(l)\n",
    "l = ''.join(l)\n",
    "print(l)\n",
    "```\n",
    "\n",
    "(note that ``[CTRL-V]`` doesn't work in a terminal - you'll have to use right click -> paste)"
   ]
  },
  {
   "cell_type": "markdown",
   "metadata": {},
   "source": [
    "### Take home points "
   ]
  },
  {
   "cell_type": "markdown",
   "metadata": {},
   "source": [
    "``ipython`` is an \"interactive python\". It's basically the same thing, but with more features. From now on we will use ipython only: you will learn more of it's features as we go."
   ]
  },
  {
   "cell_type": "markdown",
   "metadata": {},
   "source": [
    "## Modules and scripts"
   ]
  },
  {
   "cell_type": "markdown",
   "metadata": {},
   "source": [
    "Of course, the command-line interpreter is only useful for small scripts or data exploration. Most of the time, you will want to write **scripts** (a collection of commands executed in order to reach a certain goal) or more complex **programs** (the difference between \"scripts\" and \"programs\" is fuzzy, but for now let's call a \"program\" a tool which involves writing several functions and/or several files).\n",
    "\n",
    "The best way to do is"
   ]
  },
  {
   "cell_type": "markdown",
   "metadata": {},
   "source": [
    "## What is the python \"interpreter\"? "
   ]
  },
  {
   "cell_type": "markdown",
   "metadata": {},
   "source": [
    "## What's next? "
   ]
  },
  {
   "cell_type": "markdown",
   "metadata": {},
   "source": [
    "Back to the [table of contents](00-Introduction.ipynb#ctoc), or [jump to the next chapter](04-Assignment-01.ipynb)."
   ]
  }
 ],
 "metadata": {
  "hide_input": false,
  "kernelspec": {
   "display_name": "Python 3",
   "language": "python",
   "name": "python3"
  },
  "language_info": {
   "codemirror_mode": {
    "name": "ipython",
    "version": 3
   },
   "file_extension": ".py",
   "mimetype": "text/x-python",
   "name": "python",
   "nbconvert_exporter": "python",
   "pygments_lexer": "ipython3",
   "version": "3.5.2"
  },
  "toc": {
   "base_numbering": 3,
   "nav_menu": {},
   "number_sections": true,
   "sideBar": true,
   "skip_h1_title": false,
   "title_cell": "Table of Contents",
   "title_sidebar": "Contents",
   "toc_cell": true,
   "toc_position": {},
   "toc_section_display": "block",
   "toc_window_display": true
  }
 },
 "nbformat": 4,
 "nbformat_minor": 2
}
