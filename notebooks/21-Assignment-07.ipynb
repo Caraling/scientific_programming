{
 "cells": [
  {
   "cell_type": "markdown",
   "metadata": {},
   "source": [
    "# Assignment #07: writing a python package"
   ]
  },
  {
   "cell_type": "markdown",
   "metadata": {},
   "source": [
    "You have two weeks time for these assignments. Unlike the previous weeks, all groups will have to send me their solution to the programming task (one ``.zip`` file per group) and I will provide a feedback for each of the solution."
   ]
  },
  {
   "cell_type": "markdown",
   "metadata": {},
   "source": [
    "### Warm-up: familiarize yourself with the template package"
   ]
  },
  {
   "cell_type": "markdown",
   "metadata": {},
   "source": [
    "Download the template package from the [github repository](https://github.com/fmaussion/scispack). Install it in your environment in **editable mode**. Check that the package is correctly installed, for example with an ``import scispack`` from any working directory.\n",
    "\n",
    "Try the command line interface (CLI) from a terminal. Now explore its code and ``setup.py``: can you identify what makes the CLI available from the terminal?\n",
    "\n",
    "Add a new option to the CLI: ``-ca, --chucks-age: print the age of Chuck Norris``. Add a test for it."
   ]
  },
  {
   "cell_type": "markdown",
   "metadata": {},
   "source": [
    "## Assignment #07-01: write your own package "
   ]
  },
  {
   "cell_type": "markdown",
   "metadata": {},
   "source": [
    "*The instructions will be pasted here soon. I'll send you an email when it's done!*"
   ]
  },
  {
   "cell_type": "markdown",
   "metadata": {},
   "source": [
    "### Optional exercise: practice your algorithmic-fu  "
   ]
  },
  {
   "cell_type": "markdown",
   "metadata": {},
   "source": [
    "This exercise is \"for fun\". Don't feel obliged to do it! For this exercise you can use the **standard library alone** (maybe with numpy if you want to). Let's download some data:"
   ]
  },
  {
   "cell_type": "code",
   "execution_count": null,
   "metadata": {},
   "outputs": [],
   "source": [
    "from urllib.request import Request, urlopen\n",
    "import json\n",
    "\n",
    "# Parse the given url\n",
    "url = 'https://raw.githubusercontent.com/fmaussion/scientific_programming/master/data/rgi_intersects.json'\n",
    "req = urlopen(Request(url)).read()\n",
    "# Read the data\n",
    "data = json.loads(req.decode('utf-8'))"
   ]
  },
  {
   "cell_type": "markdown",
   "metadata": {},
   "source": [
    "This disctionary contains two lists of N glacier identifiers. These data contain the pairs of glaciers in Iceland which have a connection (an ice divide) with each other. In other words, ``data['RGIId_1'][i]`` shares a connection with ``data['RGIId_2'][i]`` for i in ``range(len('RGIId_1'))``. Here is a map to help you visualize things a little better:"
   ]
  },
  {
   "cell_type": "markdown",
   "metadata": {},
   "source": [
    "![img](../img/21_clusters.png)"
   ]
  },
  {
   "cell_type": "markdown",
   "metadata": {},
   "source": [
    "The colors mark the clusters, there are 7 in total (the individual glaciers do not count).\n",
    "\n",
    "**The goal of these exercise is to find these seven clusters and list the glaciers belonging to each other.**\n",
    "\n",
    "As a warm up, you should start with a smaller example. Given the following pairs:\n",
    "\n",
    "    (A, B)\n",
    "    (A, C)\n",
    "    (C, D)\n",
    "    (E, F)\n",
    "   \n",
    "I'm asking to find the two clusters:\n",
    "  \n",
    "    (A, B, C, D)\n",
    "    (E, F)"
   ]
  },
  {
   "cell_type": "markdown",
   "metadata": {},
   "source": [
    "*Back to the [table of contents](00-Introduction.ipynb#ctoc)*"
   ]
  }
 ],
 "metadata": {
  "hide_input": false,
  "kernelspec": {
   "display_name": "Python 3",
   "language": "python",
   "name": "python3"
  },
  "language_info": {
   "codemirror_mode": {
    "name": "ipython",
    "version": 3
   },
   "file_extension": ".py",
   "mimetype": "text/x-python",
   "name": "python",
   "nbconvert_exporter": "python",
   "pygments_lexer": "ipython3",
   "version": "3.5.2"
  },
  "toc": {
   "base_numbering": 1,
   "nav_menu": {},
   "number_sections": false,
   "sideBar": true,
   "skip_h1_title": false,
   "title_cell": "Table of Contents",
   "title_sidebar": "Contents",
   "toc_cell": false,
   "toc_position": {},
   "toc_section_display": "block",
   "toc_window_display": false
  }
 },
 "nbformat": 4,
 "nbformat_minor": 2
}
