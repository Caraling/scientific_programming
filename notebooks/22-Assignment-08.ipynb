{
 "cells": [
  {
   "cell_type": "markdown",
   "metadata": {},
   "source": [
    "# Assignment #08: ACINN meteorological data"
   ]
  },
  {
   "cell_type": "markdown",
   "metadata": {},
   "source": [
    "This weeks assignment is not directly related to the last lecture (\"Python Packages\"). This assignment has two main purposes: continuing to learn the scientific python tools, and introduce you to a new data source you will be able to use for the visclim project."
   ]
  },
  {
   "cell_type": "markdown",
   "metadata": {},
   "source": [
    "The institute website provides live visualization of meteorological data: http://acinn.uibk.ac.at/current-weather/innsbruck-university . The raw data used for the plots are available in a live feed at the following addresses:\n",
    "- http://acinn.uibk.ac.at/innsbruck/3 for the three days data\n",
    "- http://acinn.uibk.ac.at/innsbruck/7 for the seven days data\n",
    "\n",
    "The data for the other stations are available, per analogy:\n",
    "- http://acinn.uibk.ac.at/ellboegen/3\n",
    "- http://acinn.uibk.ac.at/obergurgl/3\n",
    "- http://acinn.uibk.ac.at/sattelberg/3\n",
    "\n",
    "The data is shared by ACINN under a [Creative Commons Attribution-ShareAlike 4.0 International License](https://creativecommons.org/licenses/by-sa/4.0/).\n",
    "\n",
    "<a href=\"https://creativecommons.org/licenses/by-sa/4.0/\" target=\"_blank\">\n",
    "  <img align=\"left\" src=\"https://i.creativecommons.org/l/by-sa/4.0/88x31.png\"/>\n",
    "</a>"
   ]
  },
  {
   "cell_type": "markdown",
   "metadata": {},
   "source": [
    "The data is provided in the [json](https://www.json.org/) format, often used for web applications. Fortunately, this is very easy to read in python:"
   ]
  },
  {
   "cell_type": "code",
   "execution_count": null,
   "metadata": {},
   "outputs": [],
   "source": [
    "from urllib.request import Request, urlopen\n",
    "import json\n",
    "\n",
    "url = 'http://acinn.uibk.ac.at/innsbruck/3'\n",
    "# Parse the given url\n",
    "req = urlopen(Request(url)).read()\n",
    "# Read the data\n",
    "data = json.loads(req.decode('utf-8'))"
   ]
  },
  {
   "cell_type": "markdown",
   "metadata": {},
   "source": [
    "Now I will help you to parse the timestamp of the data:"
   ]
  },
  {
   "cell_type": "code",
   "execution_count": null,
   "metadata": {},
   "outputs": [],
   "source": [
    "from datetime import datetime, timedelta\n",
    "data['time'] = [datetime(1970, 1, 1) + timedelta(milliseconds=ds) for ds in data['datumsec']]"
   ]
  },
  {
   "cell_type": "markdown",
   "metadata": {},
   "source": [
    "And make a first plot to get you started:"
   ]
  },
  {
   "cell_type": "code",
   "execution_count": null,
   "metadata": {},
   "outputs": [],
   "source": [
    "%matplotlib inline\n",
    "import matplotlib.pyplot as plt\n",
    "plt.plot(data['time'], data['tl']);"
   ]
  },
  {
   "cell_type": "markdown",
   "metadata": {},
   "source": [
    "## Exercise #08-01: wind classification"
   ]
  },
  {
   "cell_type": "markdown",
   "metadata": {},
   "source": [
    "**Write a script that takes the station and number of days as input (either as command line arguments or user input, your choice) and prints the following information in the terminal:**\n",
    "\n",
    "```\n",
    "At station XXX, over the last X days, the dominant wind direction was XX (xx% of the time). The second most dominant wind direction was XX (xx% of the time), the least dominant wind direction was XX (xx% of the time). The maximum wind speed was XX m/s (DATE and TIME), while the strongest wind speed averaged over an hour was XX m/s (DATE and TIME).\n",
    "```\n",
    "\n",
    "With the wind directions being of 8 classes: N, NW, W, SW, S, SE, E, NE."
   ]
  },
  {
   "cell_type": "markdown",
   "metadata": {},
   "source": [
    "*Back to the [table of contents](00-Introduction.ipynb#ctoc) or to the [ClimVis project](23-Project1-ClimVis.ipynb)*"
   ]
  }
 ],
 "metadata": {
  "hide_input": false,
  "kernelspec": {
   "display_name": "Python 3",
   "language": "python",
   "name": "python3"
  },
  "language_info": {
   "codemirror_mode": {
    "name": "ipython",
    "version": 3
   },
   "file_extension": ".py",
   "mimetype": "text/x-python",
   "name": "python",
   "nbconvert_exporter": "python",
   "pygments_lexer": "ipython3",
   "version": "3.5.2"
  },
  "toc": {
   "base_numbering": 1,
   "nav_menu": {},
   "number_sections": false,
   "sideBar": true,
   "skip_h1_title": false,
   "title_cell": "Table of Contents",
   "title_sidebar": "Contents",
   "toc_cell": false,
   "toc_position": {},
   "toc_section_display": "block",
   "toc_window_display": false
  }
 },
 "nbformat": 4,
 "nbformat_minor": 2
}
