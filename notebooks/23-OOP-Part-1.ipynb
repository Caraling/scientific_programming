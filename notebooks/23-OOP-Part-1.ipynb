{
 "cells": [
  {
   "cell_type": "markdown",
   "metadata": {},
   "source": [
    "# Object Oriented Programming: introduction"
   ]
  },
  {
   "cell_type": "markdown",
   "metadata": {},
   "source": [
    "[Object-oriented programming](https://en.wikipedia.org/wiki/Object-oriented_programming) (OOP) is a standard feature of many modern programming languages. Learning the main concepts of OOP would occupy one entire lecture at least, and we won't try to cover all the details here. The specific objectives of these two OOP units are:\n",
    "- learn the basic OOP concepts syntax so that you are able to *understand* code and libraries making use of it\n",
    "- become familiar with certain semantics associated with OOP: classes, objects, attributes, methods, etc.\n",
    "- introduce simple examples where OOP is a useful paradigm, and try to raise your interest in its usage so that you can learn it by yourself when needed.\n",
    "\n",
    "This first OOP unit introduces the concept of \"objects\" in the Python language and shows you how to make objects on your own. Next week's unit will tell you what objects are useful for."
   ]
  },
  {
   "cell_type": "markdown",
   "metadata": {},
   "source": [
    "*Copyright notice: this chapter is partly inspired from [RealPython's beginner tutorial](https://realpython.com/python3-object-oriented-programming/) on OOP.*"
   ]
  },
  {
   "cell_type": "markdown",
   "metadata": {
    "toc": true
   },
   "source": [
    "<h1>Table of Contents<span class=\"tocSkip\"></span></h1>\n",
    "<div class=\"toc\"><ul class=\"toc-item\"><li><span><a href=\"#Object-Oriented-Programming:-introduction\" data-toc-modified-id=\"Object-Oriented-Programming:-introduction-23\"><span class=\"toc-item-num\">23&nbsp;&nbsp;</span>Object Oriented Programming: introduction</a></span><ul class=\"toc-item\"><li><span><a href=\"#Introduction\" data-toc-modified-id=\"Introduction-23.1\"><span class=\"toc-item-num\">23.1&nbsp;&nbsp;</span>Introduction</a></span></li><li><span><a href=\"#Classes-and-objects:-not-the-same-thing\" data-toc-modified-id=\"Classes-and-objects:-not-the-same-thing-23.2\"><span class=\"toc-item-num\">23.2&nbsp;&nbsp;</span>Classes and objects: not the same thing</a></span></li><li><span><a href=\"#Class/instance-attributes\" data-toc-modified-id=\"Class/instance-attributes-23.3\"><span class=\"toc-item-num\">23.3&nbsp;&nbsp;</span>Class/instance attributes</a></span></li><li><span><a href=\"#Instance-Methods\" data-toc-modified-id=\"Instance-Methods-23.4\"><span class=\"toc-item-num\">23.4&nbsp;&nbsp;</span>Instance Methods</a></span></li><li><span><a href=\"#Extending-attributes:-the-@property-decorator\" data-toc-modified-id=\"Extending-attributes:-the-@property-decorator-23.5\"><span class=\"toc-item-num\">23.5&nbsp;&nbsp;</span>Extending attributes: the @property decorator</a></span></li><li><span><a href=\"#Class-inheritance\" data-toc-modified-id=\"Class-inheritance-23.6\"><span class=\"toc-item-num\">23.6&nbsp;&nbsp;</span>Class inheritance</a></span></li><li><span><a href=\"#Take-home-points\" data-toc-modified-id=\"Take-home-points-23.7\"><span class=\"toc-item-num\">23.7&nbsp;&nbsp;</span>Take home points</a></span></li><li><span><a href=\"#What's-next?\" data-toc-modified-id=\"What's-next?-23.8\"><span class=\"toc-item-num\">23.8&nbsp;&nbsp;</span>What's next?</a></span></li></ul></li></ul></div>"
   ]
  },
  {
   "cell_type": "markdown",
   "metadata": {},
   "source": [
    "## Introduction"
   ]
  },
  {
   "cell_type": "markdown",
   "metadata": {},
   "source": [
    "As stated in the [OOP wikipedia page](https://en.wikipedia.org/wiki/Object-oriented_programming), OOP is a \"paradigm\" which might or might not be supported by a specific programming language. Although Python is an OOP language as it very core, **it does not enforce its usage**: OOP is not a necessity. There are often more than one possible way to structure your program, using objects or using functions only. In fact, many of you will be able to write your master thesis and even your PhD thesis without *programming* in OOP on your own. You have, however, already made heavy use of Python objects (*everything* is an object in Python, remember?) and I think it is very important that you are able to understand the basics of it in order to make better use of Python.\n",
    "\n",
    "In short, OOP is simply *another* way to structure your programs. Until now, you have written modules consisting mainly of functions, sometimes with a short ``__main__`` script which was itself calling one or more functions. OOP will add a new tool to your repertoire by allowing you to **bundle data and behaviors into individual objects**, possibly helping you to organize your code in a way that feels more natural and organized.\n",
    "\n",
    "Let's get started with some examples and new semantics! We will talk about the advantages and disadvantages of OOP in the following unit, once you are more familiar with its syntax."
   ]
  },
  {
   "cell_type": "markdown",
   "metadata": {},
   "source": [
    "## Classes and objects: not the same thing "
   ]
  },
  {
   "cell_type": "markdown",
   "metadata": {},
   "source": [
    "**Classes** are used to create new user-defined structures that contain information about something and comes with services. Let's define a new class called ``Cat``:"
   ]
  },
  {
   "cell_type": "code",
   "execution_count": null,
   "metadata": {},
   "outputs": [],
   "source": [
    "class Cat:\n",
    "    # Initializer\n",
    "    def __init__(self, name, weight):\n",
    "        self.name = name\n",
    "        self.weight = weight"
   ]
  },
  {
   "cell_type": "markdown",
   "metadata": {},
   "source": [
    "There is already a lot of new things in this code snippet: \n",
    "- first, the class name definition is happening at the very first line. As per [pep8](https://www.python.org/dev/peps/pep-0008/#class-names), class names in Python often have use the \"CapWords\" convention\n",
    "- the class contains a \"function\" called ``__init__``, which indeed looks very much like a normal function. Here the ``__init__`` function has three positional arguments: ``self`` (which has a special meaning as we are going to see), ``name`` and ``weight``. These arguments are used to initialize the **attributes** of the same name. We'll go back to this in the next section.\n",
    "\n",
    "A class provides a new structure definition. It's a \"blueprint\" for how something should be defined, but it doesn't actually provide any real data content itself. To actually use an **object** defined by the **class** ``Cat``, you'll need to create a new **instance** of that class. **Instantiating** is a fancy term for creating a new, unique realization of a class. Let's go for it:"
   ]
  },
  {
   "cell_type": "code",
   "execution_count": null,
   "metadata": {},
   "outputs": [],
   "source": [
    "a = Cat('Grumpy', 4)\n",
    "a"
   ]
  },
  {
   "cell_type": "markdown",
   "metadata": {},
   "source": [
    "We just created a new instance of the class ``Cat`` and assigned it to the variable ``a``. An instance of a class is commonly called an **object** (this can be used as synonym for \"instance\"). The variable ``a`` stores an object (instance) of the class ``Cat``:"
   ]
  },
  {
   "cell_type": "code",
   "execution_count": null,
   "metadata": {},
   "outputs": [],
   "source": [
    "# Ask if a is an instance of Cat or not\n",
    "isinstance(a, Cat)"
   ]
  },
  {
   "cell_type": "markdown",
   "metadata": {},
   "source": [
    "In fact, we just created a new datatype called ``Cat``:"
   ]
  },
  {
   "cell_type": "code",
   "execution_count": null,
   "metadata": {},
   "outputs": [],
   "source": [
    "type(a)"
   ]
  },
  {
   "cell_type": "markdown",
   "metadata": {},
   "source": [
    "**Every new instance of a class is unique**, regardless of the values used to initialize it. Let's create a new Cat with the same name and weight:"
   ]
  },
  {
   "cell_type": "code",
   "execution_count": null,
   "metadata": {},
   "outputs": [],
   "source": [
    "b = Cat('Grumpy', 4)"
   ]
  },
  {
   "cell_type": "code",
   "execution_count": null,
   "metadata": {},
   "outputs": [],
   "source": [
    "isinstance(a, Cat)"
   ]
  },
  {
   "cell_type": "code",
   "execution_count": null,
   "metadata": {},
   "outputs": [],
   "source": [
    "a == b"
   ]
  },
  {
   "cell_type": "code",
   "execution_count": null,
   "metadata": {},
   "outputs": [],
   "source": [
    "b is a"
   ]
  },
  {
   "cell_type": "markdown",
   "metadata": {},
   "source": [
    "## Class/instance attributes "
   ]
  },
  {
   "cell_type": "markdown",
   "metadata": {},
   "source": [
    "The cat's name and weight are called **instance attributes** and can be accessed with the dot syntax:"
   ]
  },
  {
   "cell_type": "code",
   "execution_count": null,
   "metadata": {},
   "outputs": [],
   "source": [
    "a.name"
   ]
  },
  {
   "cell_type": "code",
   "execution_count": null,
   "metadata": {},
   "outputs": [],
   "source": [
    "a.weight"
   ]
  },
  {
   "cell_type": "markdown",
   "metadata": {},
   "source": [
    "A common synonym for the term \"attribute\" is \"**property**\". The two terms are very close and you might find one or the other term depending on who writes about them. Properties in python are a special kind of attributes, but the difference is subtle and not relevant here."
   ]
  },
  {
   "cell_type": "markdown",
   "metadata": {},
   "source": [
    "**Instance attributes** are specific to a specific object. They are often defined at instantiation:"
   ]
  },
  {
   "cell_type": "code",
   "execution_count": null,
   "metadata": {},
   "outputs": [],
   "source": [
    "b = Cat('Tiger', 5)\n",
    "b.name"
   ]
  },
  {
   "cell_type": "markdown",
   "metadata": {},
   "source": [
    "Classes can also define **class attributes**, which are tied to a class but not to a specifi instance:"
   ]
  },
  {
   "cell_type": "code",
   "execution_count": null,
   "metadata": {},
   "outputs": [],
   "source": [
    "class Cat:\n",
    "    # Class attribute\n",
    "    language = 'Meow'\n",
    "    \n",
    "    # Initializer\n",
    "    def __init__(self, name, weight):\n",
    "        self.name = name\n",
    "        self.weight = weight"
   ]
  },
  {
   "cell_type": "code",
   "execution_count": null,
   "metadata": {},
   "outputs": [],
   "source": [
    "Cat.language"
   ]
  },
  {
   "cell_type": "code",
   "execution_count": null,
   "metadata": {},
   "outputs": [],
   "source": [
    "a = Cat('Grumpy', 4)\n",
    "a.language"
   ]
  },
  {
   "cell_type": "markdown",
   "metadata": {},
   "source": [
    "**Careful!** class and instance attributes are not **immutable**. They can be changed form outside the class:"
   ]
  },
  {
   "cell_type": "code",
   "execution_count": null,
   "metadata": {},
   "outputs": [],
   "source": [
    "a.name = 'Roncheux'\n",
    "a.language = 'Miaou'"
   ]
  },
  {
   "cell_type": "code",
   "execution_count": null,
   "metadata": {},
   "outputs": [],
   "source": [
    "a.name"
   ]
  },
  {
   "cell_type": "code",
   "execution_count": null,
   "metadata": {},
   "outputs": [],
   "source": [
    "a.language"
   ]
  },
  {
   "cell_type": "markdown",
   "metadata": {},
   "source": [
    "These changes are specific to the instance, and the class remains unchanged:"
   ]
  },
  {
   "cell_type": "code",
   "execution_count": null,
   "metadata": {},
   "outputs": [],
   "source": [
    "Cat.language"
   ]
  },
  {
   "cell_type": "markdown",
   "metadata": {},
   "source": [
    "*In comparison to other OO languages, python is very \"liberal\" regarding attributes: some languages like Java would not allow to change attributes this way. In practice, attributes should not be changed by the users of a class. Unless they are documented as being \"changeable\", and in this case become \"properties\". More on this later.*"
   ]
  },
  {
   "cell_type": "markdown",
   "metadata": {},
   "source": [
    "## Instance Methods"
   ]
  },
  {
   "cell_type": "markdown",
   "metadata": {},
   "source": [
    "If a class only had attributes, it would merely be a simple data structure. Class become useful when they are adding \"services\" to the data they store. These services are called **methods**, and their definition is similar to that of functions:"
   ]
  },
  {
   "cell_type": "code",
   "execution_count": null,
   "metadata": {},
   "outputs": [],
   "source": [
    "class Cat:\n",
    "    # Class attribute\n",
    "    language = 'Meow'\n",
    "    \n",
    "    # Initializer\n",
    "    def __init__(self, name, weight):\n",
    "        self.name = name\n",
    "        self.weight = weight\n",
    "        \n",
    "    # Method\n",
    "    def say_name(self):\n",
    "        print('{}, my name is {}!'.format(self.language, self.name))"
   ]
  },
  {
   "cell_type": "markdown",
   "metadata": {},
   "source": [
    "The biggest difference to a function is that a method is tied to a class instance: this is symbolized by the ``self`` argument, present in the method definition but not used when calling the method:"
   ]
  },
  {
   "cell_type": "code",
   "execution_count": null,
   "metadata": {},
   "outputs": [],
   "source": [
    "a = Cat('Kitty', 4)\n",
    "a.say_name()"
   ]
  },
  {
   "cell_type": "code",
   "execution_count": null,
   "metadata": {},
   "outputs": [],
   "source": [
    "b = Cat('Grumpy', 3)\n",
    "b.say_name()"
   ]
  },
  {
   "cell_type": "markdown",
   "metadata": {},
   "source": [
    "The ``self`` variable is implicit in the call above, and refers to the instance of the class which is calling the method. It might sound a little complicated at first, but you'll get used to it: ``self`` is used to read and write instance attributes, and is the first argument to virtually any method defined in the class (there is one exception to this rule which we will ignore for now. "
   ]
  },
  {
   "cell_type": "markdown",
   "metadata": {},
   "source": [
    "At this point, you should start to see similarities between the objects you used commonly and the objects we just defined. Let's make the analogy:"
   ]
  },
  {
   "cell_type": "code",
   "execution_count": null,
   "metadata": {},
   "outputs": [],
   "source": [
    "import numpy as np\n",
    "a = np.array([1, 2, 3])  # instanciating a class\n",
    "assert isinstance(a, np.ndarray)  # a is an instance of the ndarray class\n",
    "print(type(a))  # ndarray is a new datatype\n",
    "print(a.size)  # size is an instance attribute\n",
    "print(a.mean())  # mean is an instance method"
   ]
  },
  {
   "cell_type": "markdown",
   "metadata": {},
   "source": [
    "Are you confident about the meaning of all these terms? If not, I might have explained it in a way which is not the right one for you: you might need to use your google-fu to look for other tutorials. There are plenty!"
   ]
  },
  {
   "cell_type": "markdown",
   "metadata": {},
   "source": [
    "## Extending attributes: the @property decorator "
   ]
  },
  {
   "cell_type": "markdown",
   "metadata": {},
   "source": [
    "We have said that attributes are often meant to be data describing an instance of a class. It is often the job of a class to initialize and update these attributes. Consider the following example:"
   ]
  },
  {
   "cell_type": "code",
   "execution_count": null,
   "metadata": {},
   "outputs": [],
   "source": [
    "class Cat:\n",
    "    # Class attribute\n",
    "    language = 'Meow'\n",
    "    \n",
    "    # Initializer\n",
    "    def __init__(self, name, weight):\n",
    "        self.name = name\n",
    "        self.weight = weight\n",
    "        \n",
    "    # Method\n",
    "    def eat_food(self, food_kg):\n",
    "        self.weight += food_kg"
   ]
  },
  {
   "cell_type": "code",
   "execution_count": null,
   "metadata": {},
   "outputs": [],
   "source": [
    "a = Cat('Grumpy', 4)\n",
    "print('Weight before eating: {} kg'.format(a.weight))\n",
    "a.eat_food(0.2)\n",
    "print('Weight after eating: {} kg'.format(a.weight))"
   ]
  },
  {
   "cell_type": "markdown",
   "metadata": {},
   "source": [
    "This was a simplified but typical use for instance attributes: they might change according to specific events. Now let's suppose that you are working with scientists from the USA, and they'd like to know the cat's weight in pounds. One way to do so would be to compute it at instantiation:"
   ]
  },
  {
   "cell_type": "code",
   "execution_count": null,
   "metadata": {},
   "outputs": [],
   "source": [
    "class Cat:\n",
    "    # Class attribute\n",
    "    language = 'Meow'\n",
    "    \n",
    "    # Initializer\n",
    "    def __init__(self, name, weight):\n",
    "        self.name = name\n",
    "        self.weight = weight\n",
    "        self.weight_lbs = weight * 1 / 0.45359237\n",
    "        \n",
    "    # Method\n",
    "    def eat_food(self, food_kg):\n",
    "        self.weight += food_kg"
   ]
  },
  {
   "cell_type": "code",
   "execution_count": null,
   "metadata": {},
   "outputs": [],
   "source": [
    "a = Cat('Grumpy', 4)\n",
    "a.weight_lbs"
   ]
  },
  {
   "cell_type": "markdown",
   "metadata": {},
   "source": [
    "There is an obvious drawback to this method however: what if the cat eats food? Its weight won't be updated!"
   ]
  },
  {
   "cell_type": "code",
   "execution_count": null,
   "metadata": {},
   "outputs": [],
   "source": [
    "a.eat_food(0.2)\n",
    "a.weight_lbs  # this is a problem"
   ]
  },
  {
   "cell_type": "markdown",
   "metadata": {},
   "source": [
    "A possible way to deal with the issue would be to compute the pound weight *on demand*, i.e. write a method to compute it:"
   ]
  },
  {
   "cell_type": "code",
   "execution_count": null,
   "metadata": {},
   "outputs": [],
   "source": [
    "class Cat:\n",
    "    # Class attribute\n",
    "    language = 'Meow'\n",
    "    \n",
    "    # Initializer\n",
    "    def __init__(self, name, weight):\n",
    "        self.name = name\n",
    "        self.weight = weight\n",
    "        \n",
    "    # Method\n",
    "    def eat_food(self, food_kg):\n",
    "        self.weight += food_kg\n",
    "        \n",
    "    def get_weight_lbs(self):\n",
    "        return self.weight * 1 / 0.45359237"
   ]
  },
  {
   "cell_type": "code",
   "execution_count": null,
   "metadata": {},
   "outputs": [],
   "source": [
    "a = Cat('Grumpy', 4)\n",
    "a.eat_food(0.2)\n",
    "a.get_weight_lbs()"
   ]
  },
  {
   "cell_type": "markdown",
   "metadata": {},
   "source": [
    "This is already much better (and accurate), but it is somehow hiding the fact that the weight of a cat really is an attribute, no matter the unit. It should not be accessed with a \"get_\" method. This is very a new syntax comes handy:"
   ]
  },
  {
   "cell_type": "code",
   "execution_count": null,
   "metadata": {},
   "outputs": [],
   "source": [
    "class Cat:\n",
    "    # Class attribute\n",
    "    language = 'Meow'\n",
    "    \n",
    "    # Initializer\n",
    "    def __init__(self, name, weight):\n",
    "        self.name = name\n",
    "        self.weight = weight\n",
    "        \n",
    "    # Method\n",
    "    def eat_food(self, food_kg):\n",
    "        self.weight += food_kg\n",
    "    \n",
    "    @property\n",
    "    def weight_lbs(self):\n",
    "        return self.weight * 1 / 0.45359237"
   ]
  },
  {
   "cell_type": "markdown",
   "metadata": {},
   "source": [
    "``weight_lbs`` looks like a method (it computes something), but only in the class definition. For the class instances, the method is \"hidden\" in an attribute:"
   ]
  },
  {
   "cell_type": "code",
   "execution_count": null,
   "metadata": {},
   "outputs": [],
   "source": [
    "a = Cat('Grumpy', 4)\n",
    "a.eat_food(0.2)\n",
    "a.weight_lbs  # weight_lbs is an attribute!"
   ]
  },
  {
   "cell_type": "markdown",
   "metadata": {},
   "source": [
    "This is very useful and frequently used in python. The ``@`` syntax is called a \"decorator\", and you might learn about decorators in a more advanced python class."
   ]
  },
  {
   "cell_type": "markdown",
   "metadata": {},
   "source": [
    "## Class inheritance"
   ]
  },
  {
   "cell_type": "markdown",
   "metadata": {},
   "source": [
    "**Inheritance** is a core concept of OOP. It allows a **child class** to override or extend methods and attributes from a **parent class**. In other words, child classes inherit all of the parent's attributes and behaviors but can also specify different behavior to follow. This is best shown with an example. Let's make the ``Cat`` and ``Dog`` class inherit from the ``Pet`` class:"
   ]
  },
  {
   "cell_type": "code",
   "execution_count": null,
   "metadata": {},
   "outputs": [],
   "source": [
    "class Pet:\n",
    "\n",
    "    # Initializer\n",
    "    def __init__(self, name, weight):\n",
    "        self.name = name\n",
    "        self.weight = weight\n",
    "        \n",
    "    # Method\n",
    "    def eat_food(self, food_kg):\n",
    "        self.weight += food_kg\n",
    "    \n",
    "    @property\n",
    "    def weight_lbs(self):\n",
    "        return self.weight * 1 / 0.45359237\n",
    "    \n",
    "    def say_name_loud(self):\n",
    "        return self.say_name().upper()\n",
    "\n",
    "class Cat(Pet):\n",
    "    \n",
    "    # Class attribute\n",
    "    language = 'Meow'\n",
    "        \n",
    "    # Method\n",
    "    def say_name(self):\n",
    "        return '{}, my name is {} and I smell like a flower!'.format(self.language, self.name)\n",
    "        \n",
    "class Dog(Pet):\n",
    "    \n",
    "    # Class attribute\n",
    "    language = 'Woof'\n",
    "        \n",
    "    # Method\n",
    "    def say_name(self):\n",
    "        return '{}, my name is {} and I smell like a wet towel!'.format(self.language, self.name)"
   ]
  },
  {
   "cell_type": "markdown",
   "metadata": {},
   "source": [
    "There is a lot of new information here! We will discuss it during the lecture because I have no time right now."
   ]
  },
  {
   "cell_type": "markdown",
   "metadata": {},
   "source": [
    "## Take home points"
   ]
  },
  {
   "cell_type": "code",
   "execution_count": null,
   "metadata": {},
   "outputs": [],
   "source": [
    "# TODO"
   ]
  },
  {
   "cell_type": "markdown",
   "metadata": {},
   "source": [
    "## What's next? "
   ]
  },
  {
   "cell_type": "markdown",
   "metadata": {},
   "source": [
    "Back to the [table of contents](00-Introduction.ipynb#ctoc), or [jump to this week's assignment](24-Assignment-08.ipynb)."
   ]
  }
 ],
 "metadata": {
  "hide_input": false,
  "kernelspec": {
   "display_name": "Python 3",
   "language": "python",
   "name": "python3"
  },
  "language_info": {
   "codemirror_mode": {
    "name": "ipython",
    "version": 3
   },
   "file_extension": ".py",
   "mimetype": "text/x-python",
   "name": "python",
   "nbconvert_exporter": "python",
   "pygments_lexer": "ipython3",
   "version": "3.5.2"
  },
  "toc": {
   "base_numbering": "23",
   "nav_menu": {},
   "number_sections": true,
   "sideBar": true,
   "skip_h1_title": false,
   "title_cell": "Table of Contents",
   "title_sidebar": "Contents",
   "toc_cell": true,
   "toc_position": {
    "height": "calc(100% - 180px)",
    "left": "10px",
    "top": "150px",
    "width": "361px"
   },
   "toc_section_display": "block",
   "toc_window_display": true
  }
 },
 "nbformat": 4,
 "nbformat_minor": 2
}
