{
 "cells": [
  {
   "cell_type": "markdown",
   "metadata": {},
   "source": [
    "# A very short introduction to Linux"
   ]
  },
  {
   "cell_type": "markdown",
   "metadata": {},
   "source": [
    "This lecture is about programming, but it would be a big mistake to omit talking about Linux here, at least a little bit.\n",
    "\n",
    "I think that every student in (geo-)sciences should know about the existence of Linux and know the basics of it. Atmospheric Sciences students in particular will have to use it sooner or later, since most of the the tools and data they are using are running or have been created on Linux systems."
   ]
  },
  {
   "cell_type": "markdown",
   "metadata": {
    "toc": true
   },
   "source": [
    "<h1>Table of Contents<span class=\"tocSkip\"></span></h1>\n",
    "<div class=\"toc\" style=\"margin-top: 1em;\"><ul class=\"toc-item\"><li><span><a href=\"#A-very-short-introduction-to-Linux\" data-toc-modified-id=\"A-very-short-introduction-to-Linux-1\"><span class=\"toc-item-num\">1&nbsp;&nbsp;</span>A very short introduction to Linux</a></span><ul class=\"toc-item\"><li><span><a href=\"#What-is-Linux?\" data-toc-modified-id=\"What-is-Linux?-1.1\"><span class=\"toc-item-num\">1.1&nbsp;&nbsp;</span>What is Linux?</a></span></li><li><span><a href=\"#Should-I-use-it?\" data-toc-modified-id=\"Should-I-use-it?-1.2\"><span class=\"toc-item-num\">1.2&nbsp;&nbsp;</span>Should I use it?</a></span></li><li><span><a href=\"#Testing-(and-embracing?)-Linux\" data-toc-modified-id=\"Testing-(and-embracing?)-Linux-1.3\"><span class=\"toc-item-num\">1.3&nbsp;&nbsp;</span>Testing (and embracing?) Linux</a></span><ul class=\"toc-item\"><li><span><a href=\"#At-the-University-of-Innsbruck-(and-other-universities-as-well)\" data-toc-modified-id=\"At-the-University-of-Innsbruck-(and-other-universities-as-well)-1.3.1\"><span class=\"toc-item-num\">1.3.1&nbsp;&nbsp;</span>At the University of Innsbruck (and other universities as well)</a></span></li><li><span><a href=\"#On-your-laptop-in-a-virtual-machine\" data-toc-modified-id=\"On-your-laptop-in-a-virtual-machine-1.3.2\"><span class=\"toc-item-num\">1.3.2&nbsp;&nbsp;</span>On your laptop in a virtual machine</a></span></li><li><span><a href=\"#On-your-laptop-alongside-Windows\" data-toc-modified-id=\"On-your-laptop-alongside-Windows-1.3.3\"><span class=\"toc-item-num\">1.3.3&nbsp;&nbsp;</span>On your laptop alongside Windows</a></span></li><li><span><a href=\"#On-your-laptop-without-Windows\" data-toc-modified-id=\"On-your-laptop-without-Windows-1.3.4\"><span class=\"toc-item-num\">1.3.4&nbsp;&nbsp;</span>On your laptop without Windows</a></span></li></ul></li><li><span><a href=\"#The-linux-command-line\" data-toc-modified-id=\"The-linux-command-line-1.4\"><span class=\"toc-item-num\">1.4&nbsp;&nbsp;</span>The linux command line</a></span></li><li><span><a href=\"#What's-next?\" data-toc-modified-id=\"What's-next?-1.5\"><span class=\"toc-item-num\">1.5&nbsp;&nbsp;</span>What's next?</a></span></li></ul></li></ul></div>"
   ]
  },
  {
   "cell_type": "markdown",
   "metadata": {},
   "source": [
    "## What is Linux? "
   ]
  },
  {
   "cell_type": "markdown",
   "metadata": {},
   "source": [
    "The [web](https://www.google.co.uk/search?q=What+is+Linux) is going to give a better answer than me to this question."
   ]
  },
  {
   "cell_type": "markdown",
   "metadata": {},
   "source": [
    "## Should I use it?"
   ]
  },
  {
   "cell_type": "markdown",
   "metadata": {},
   "source": [
    "My very personal answer is a clear: **yes**! I can't force you though, and most of the exercises of this lecture can be done on a Windows computer too. If you are running Mac OSX then you have access to most Linux commands anyway, and you can ignore my recommendation (even if I don't like Apple for several other reasons - totally subjective opinion again ;). \n",
    "\n",
    "Linux has always been an environment for programmers and has the reputation of being \"geeky\" and \"complicated\". This is less true today, with many Linux distributions becoming mainstream and easy to use (my personal favorite is [Linux Mint](http://linuxmint.com), but you probably mostly heard of [Ubuntu](http://ubuntugnome.org/) which I also recommend).  \n",
    "\n",
    "I believe that Linux is *much* more user-friendly than Windows: once some of the particularities of Linux are understood (which can be frustrating in the beginning since it works *quite* differently than windows), it appears that there is much less \"hidden\" in Linux than in Windows (especially when it comes to installing/deinstalling softwares, using the command line, or protecting yourself from viruses and intruders). \n",
    "\n",
    "**As a scientist and programmer** there are many reasons to prefer Linux (or Mac OSX) to Windows. Let me list some reasons here:\n",
    "- **Linux comes with a lot of tools for scientists and programmers**. For historical reasons, Linux and it's command line tools have been used by scientists and programmers since decades. It is not a surprise then that Linux comes with many (many) useful utilities to make programming and working with data easier.\n",
    "- **Linux is fast and reliable**. Linux is extremely stable, and more lightweight than Windows. I've never seen a Linux distribution becoming *slower* with time, as I was used to see in my time using Windows (I have to admit: it was more than 10 years ago).\n",
    "- **Linux is the operating system of the huge majority of the super computers and web servers worldwide**. Because of it's speed, security, and multiple user management tools, Linux has taken over the web: [99.4%](https://en.wikipedia.org/wiki/Linux_adoption#Supercomputers) of the super computers and [67.5%](https://en.wikipedia.org/wiki/Linux_adoption#Servers) of the web servers run Linux, [79.3%](https://en.wikipedia.org/wiki/Linux_adoption#Mobile_devices) of the mobile devices run Linux via Android.\n",
    "- **Linux is at the heart of the open-source philosophy**. Linux is free and open-source, and it is not surprising that people who embraced the open-source philosophy also prefer Linux to Windows or Mac. \n",
    "\n",
    "There are also some reasons **not** to use Linux of course. For one, Linux can be surprising at first and it needs time to get used to it. Also, it doesn't come pre-installed on most computers and you'll have to do it yourself (although this is changing fast, with several retailers now selling Ubuntu laptops to students). It is possible that some of your hardware will not be compatible with Linux (nowadays this is now more the exception than the norm). Finally, some software simply aren't available on Linux: Microsoft Office, the Adobe Suite, and most games are the most prominent examples. The free and open-source alternatives (LibreOffice and GIMP) are good, but not *as* good as their commercial counterpart. I used Linux exclusively for more than 10 years now, and I never regretted it. Recently I had to install Windows in a virtual machine in order to use the MS Office software provided by the University, and it works perfectly."
   ]
  },
  {
   "cell_type": "markdown",
   "metadata": {},
   "source": [
    "## Testing (and embracing?) Linux"
   ]
  },
  {
   "cell_type": "markdown",
   "metadata": {},
   "source": [
    "Here are a few ways you can use Linux and make an idea by yourself:"
   ]
  },
  {
   "cell_type": "markdown",
   "metadata": {},
   "source": [
    "### At the University of Innsbruck (and other universities as well)"
   ]
  },
  {
   "cell_type": "markdown",
   "metadata": {},
   "source": [
    "In order to use Linux in the computer room you have to register for an account [here](http://orawww.uibk.ac.at/public_prod/owa/uvw$web$10.p001). After an hour or so you will be able to connect to any computer using your username and password. \n",
    "The Linux [distribution](https://en.wikipedia.org/wiki/Linux_distribution) used at the university is [CentOS](https://www.centos.org/). These details are not very important, since you will see that most of the applications we will use are similar to those in windows. For example, you will recognize the Firefox icon in the task bar.\n",
    "\n",
    "If you are a student of another university, it is likely that they provide access to Linux environments, too."
   ]
  },
  {
   "cell_type": "markdown",
   "metadata": {},
   "source": [
    "### On your laptop in a virtual machine"
   ]
  },
  {
   "cell_type": "markdown",
   "metadata": {},
   "source": [
    "This is a very easy and non-destructive way to try Linux. There are tons of tutorials online, [this one](https://helpdeskgeek.com/linux-tips/how-to-install-ubuntu-in-virtualbox/) seems OK."
   ]
  },
  {
   "cell_type": "markdown",
   "metadata": {},
   "source": [
    "### On your laptop alongside Windows"
   ]
  },
  {
   "cell_type": "markdown",
   "metadata": {},
   "source": [
    "This is a bit more dangerous, but the best way if you want to use both operating systems at full capacity. See [here](https://help.ubuntu.com/community/WindowsDualBoot) for the official instructions. Be careful however: it is possible that things get a bit complicated going this way: secure your data first, and be prepared fore some unexpected events. "
   ]
  },
  {
   "cell_type": "markdown",
   "metadata": {},
   "source": [
    "### On your laptop without Windows"
   ]
  },
  {
   "cell_type": "markdown",
   "metadata": {},
   "source": [
    "Congratulations, this is the best solution! Please check that your hardware is [compatible](https://certification.ubuntu.com/desktop/) first, and follow the install instructions of your chosen OS. If you want to use Windows afterwards you can still re-install it or install it in a virtual machine. "
   ]
  },
  {
   "cell_type": "markdown",
   "metadata": {},
   "source": [
    "## The linux command line "
   ]
  },
  {
   "cell_type": "code",
   "execution_count": null,
   "metadata": {},
   "outputs": [],
   "source": []
  },
  {
   "cell_type": "code",
   "execution_count": null,
   "metadata": {},
   "outputs": [],
   "source": []
  },
  {
   "cell_type": "markdown",
   "metadata": {},
   "source": [
    "## What's next?"
   ]
  },
  {
   "cell_type": "markdown",
   "metadata": {},
   "source": [
    "Back to the [Table of Contents](00-Introduction.ipynb#toc), or [jump to the next chapter](02-Installation.ipynb)."
   ]
  },
  {
   "cell_type": "code",
   "execution_count": null,
   "metadata": {},
   "outputs": [],
   "source": []
  }
 ],
 "metadata": {
  "hide_input": false,
  "kernelspec": {
   "display_name": "Python 3",
   "language": "python",
   "name": "python3"
  },
  "language_info": {
   "codemirror_mode": {
    "name": "ipython",
    "version": 3
   },
   "file_extension": ".py",
   "mimetype": "text/x-python",
   "name": "python",
   "nbconvert_exporter": "python",
   "pygments_lexer": "ipython3",
   "version": "3.5.2"
  },
  "toc": {
   "nav_menu": {},
   "number_sections": true,
   "sideBar": true,
   "skip_h1_title": false,
   "toc_cell": true,
   "toc_position": {},
   "toc_section_display": "block",
   "toc_window_display": true
  }
 },
 "nbformat": 4,
 "nbformat_minor": 2
}
