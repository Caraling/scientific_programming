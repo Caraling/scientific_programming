{
 "cells": [
  {
   "cell_type": "markdown",
   "id": "3130226a-2e10-4d55-bc7e-95a29262b354",
   "metadata": {},
   "source": [
    "# Optional exercise "
   ]
  },
  {
   "cell_type": "markdown",
   "id": "dbf80cd6-9b40-43c0-b0ed-829271ecf276",
   "metadata": {},
   "source": [
    "This is just some simple statistics and data wrangling based on current events. Purely optional!"
   ]
  },
  {
   "cell_type": "markdown",
   "id": "59b1683f-fd5d-4b19-a436-ad43066ca761",
   "metadata": {},
   "source": [
    "## Bayes theorem "
   ]
  },
  {
   "cell_type": "markdown",
   "id": "d4956f09-cc32-4d33-b916-0f391d9df42e",
   "metadata": {},
   "source": [
    "The following graphic was shown by a German talk show presenter on November 10, 2021:  \n",
    "\n",
    "<img src=\"https://pbs.twimg.com/media/FELYFI8XsAoouxu?format=png&name=small\">\n",
    "\n",
    "It was implied that the graph shows that \"the vaccine is not as efficient as previously thought\" for people over 60. Using (relatively) basic statistics (and maybe one line of python code), show that the vaccine *does* have a very high efficacy at preventing getting the disease, hospitalisation, and death. You can do this by comparing the probability of getting the decease while vaccinated $P(D|V)$ to the probability of getting the decease while non-vaccinated $P(D|NV)$."
   ]
  },
  {
   "cell_type": "code",
   "execution_count": null,
   "id": "e77ac1c2-68db-4a9f-b16c-1b7091f25940",
   "metadata": {
    "tags": [
     "hide-cell"
    ]
   },
   "outputs": [],
   "source": [
    "import pandas as pd\n",
    "df = pd.DataFrame([91, 60, 45, 34, 43], columns=['V'], \n",
    "                  index=['All', 'Infections', 'Hospitalization', 'ICU', 'Death'])\n",
    "df['NV'] = 100 - df['V']\n",
    "\n",
    "print('Chance of getting X while non-vaccinated over being vaccinated:')\n",
    "df['NV'] / df['V'] * df.iloc[0].V / df.iloc[0].NV"
   ]
  },
  {
   "cell_type": "markdown",
   "id": "bafafe0d-b8c9-42ec-ad23-b13b25af277c",
   "metadata": {},
   "source": [
    "## Difference between the 2020 and 2021 autumn COVID waves in Austria"
   ]
  },
  {
   "cell_type": "markdown",
   "id": "b793f588-5914-4d09-abf0-7abcbdb66be0",
   "metadata": {},
   "source": [
    "[Our World in Data](https://ourworldindata.org) is a website from the University of Oxford providing all kinds of statistics, from climate change to pandemics to meat consumption per capita. Based on current events, let's use the data they provide to draw the following plot: \"Incidence in Austria since October 1st, in 2020 and 2021\" (two curves). Repeat with Hospitalisations and Deaths.\n",
    "\n",
    "Here is a link to the data: https://covid.ourworldindata.org/data/owid-covid-data.csv"
   ]
  },
  {
   "cell_type": "code",
   "execution_count": null,
   "id": "b7d84688-1124-43b9-8bcf-e695954e197f",
   "metadata": {
    "tags": [
     "hide-cell"
    ]
   },
   "outputs": [],
   "source": [
    "import pandas as pd\n",
    "import matplotlib.pyplot as plt\n",
    "import matplotlib.dates as mdates\n",
    "from matplotlib.dates import DateFormatter\n",
    "# Just to make the plots look different\n",
    "import seaborn as sns\n",
    "sns.set_context('talk')\n",
    "sns.set_style('whitegrid')\n",
    "\n",
    "# Read the data\n",
    "url = 'https://covid.ourworldindata.org/data/owid-covid-data.csv'\n",
    "odf = pd.read_csv(url, index_col='date', parse_dates=True)\n",
    "\n",
    "# Pick only the data till 2022\n",
    "odf = odf.loc[:'2021']\n",
    "\n",
    "# Select country and parse day of year for time axis\n",
    "df = odf.loc[odf.location == 'Austria'].copy()\n",
    "df['year'] = df.index.year\n",
    "df['doy'] = df.index.dayofyear\n",
    "\n",
    "# Plot\n",
    "f, axs = plt.subplots(3, 1, figsize=(8, 14), sharex=True)\n",
    "\n",
    "values = ['new_cases_smoothed_per_million',\n",
    "          'hosp_patients_per_million',\n",
    "          'new_deaths_smoothed_per_million']\n",
    "titles = ['Incidence', 'Hospitalisations', 'Deaths']\n",
    "for ax, y, t in zip(axs, values, titles):\n",
    "\n",
    "    # Som pandas magic\n",
    "    cases = df.pivot(index='doy', columns='year', values=y)\n",
    "    cases = cases * 7 / 10  # inzidenz\n",
    "    # Naive date and plot\n",
    "    cases['date'] = pd.to_datetime(cases.index, format='%j')\n",
    "    cases.set_index('date').iloc[270:].plot(ax=ax, legend=ax is axs[0])\n",
    "\n",
    "    # Replace day of year with real date\n",
    "    ax.xaxis.clear()\n",
    "    date_form = DateFormatter(\"%d.%m\")\n",
    "    ax.xaxis.set_major_formatter(date_form)\n",
    "    ax.xaxis.set_major_locator(mdates.WeekdayLocator(interval=2))\n",
    "    ax.set_ylabel('7d sum, per 100k'); ax.set_title(t);"
   ]
  },
  {
   "cell_type": "markdown",
   "id": "aac5d525-8efd-4da3-a037-09bf8c5c0d25",
   "metadata": {},
   "source": [
    "## Exponential curve explained to our neighbors "
   ]
  },
  {
   "cell_type": "markdown",
   "id": "e1c71172-c770-4689-b4f0-65b6890221a0",
   "metadata": {},
   "source": [
    "Use the same data to draw the incidence curves in Austria, Germany, and Switzerland (the three countries [with the lowest vaccination rate in Western Europe](https://www.ft.com/content/f04ac67b-92e4-4bab-8c23-817cc0483df5)) since October 1st. This plot hides an important difference: the waves have started later in Germany and Switzerland than they have in Austria. Therefore, plot instead the incidence curves as a function of \"days since the incidence reached 180\" to compare the waves in each country. \n",
    "\n",
    "Reminder, the \"incidence\" is the number of positive cases per 100k inhabitants over 7 days. In the table, it is computed by multiplying `new_cases_smoothed_per_million` with `7 / 10`."
   ]
  },
  {
   "cell_type": "code",
   "execution_count": null,
   "id": "c4ab347c-fb85-4e5f-97eb-ace065a19a39",
   "metadata": {
    "tags": [
     "hide-cell"
    ]
   },
   "outputs": [],
   "source": [
    "odf = odf.reset_index()\n",
    "\n",
    "# Some pandas magic here\n",
    "df = odf.groupby(['location', 'date'])['new_cases_smoothed_per_million'].sum()\n",
    "df = df.unstack(level=0).rename_axis(\"\", axis=1) * 7 / 10\n",
    "\n",
    "f, ax = plt.subplots(1, 1, figsize=(10, 8))\n",
    "df.loc['2021/10':][['Austria', 'Germany', 'Switzerland']].plot(ax=ax);\n",
    "ax.set_xlabel('');\n",
    "ax.set_ylabel('7d incidence (per 100k)');\n",
    "ax.set_title('COVID cases since October');\n",
    "\n",
    "ids = (df.loc['2021/10':][['Austria', 'Germany', 'Switzerland']] >= 180).idxmax()\n",
    "\n",
    "tdf = pd.DataFrame()\n",
    "for k, d in ids.items():\n",
    "    tdf[k + d.strftime(' (%Y-%m-%d)')] = pd.Series(df[k].loc[d:].values)\n",
    "    print(k, d)\n",
    "\n",
    "f, ax = plt.subplots(1, 1, figsize=(10, 8))\n",
    "tdf.plot(ax=ax);\n",
    "ax.set_xlabel('Days since incidence > 180');\n",
    "ax.set_ylabel('7d incidence (per 100k)');\n",
    "ax.set_title('COVID cases since 7d incidence > 180');"
   ]
  },
  {
   "cell_type": "code",
   "execution_count": null,
   "id": "9ae54acd-58cd-4017-a97e-3622c9b32878",
   "metadata": {},
   "outputs": [],
   "source": []
  }
 ],
 "metadata": {
  "kernelspec": {
   "display_name": "Python 3 (ipykernel)",
   "language": "python",
   "name": "python3"
  },
  "language_info": {
   "codemirror_mode": {
    "name": "ipython",
    "version": 3
   },
   "file_extension": ".py",
   "mimetype": "text/x-python",
   "name": "python",
   "nbconvert_exporter": "python",
   "pygments_lexer": "ipython3",
   "version": "3.8.5"
  }
 },
 "nbformat": 4,
 "nbformat_minor": 5
}
